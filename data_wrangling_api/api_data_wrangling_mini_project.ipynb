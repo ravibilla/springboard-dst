{
 "cells": [
  {
   "cell_type": "markdown",
   "metadata": {},
   "source": [
    "This exercise will require you to pull some data from the Qunadl API. Qaundl is currently the most widely used aggregator of financial market data."
   ]
  },
  {
   "cell_type": "markdown",
   "metadata": {},
   "source": [
    "As a first step, you will need to register a free account on the http://www.quandl.com website."
   ]
  },
  {
   "cell_type": "markdown",
   "metadata": {},
   "source": [
    "After you register, you will be provided with a unique API key, that you should store:"
   ]
  },
  {
   "cell_type": "code",
   "execution_count": 1,
   "metadata": {},
   "outputs": [],
   "source": [
    "# Store the API key as a string - according to PEP8, constants are always named in all upper case\n",
    "API_KEY = 'Mpnz-DJxEPMt2PWqv_aw'"
   ]
  },
  {
   "cell_type": "markdown",
   "metadata": {},
   "source": [
    "Qaundl has a large number of data sources, but, unfortunately, most of them require a Premium subscription. Still, there are also a good number of free datasets."
   ]
  },
  {
   "cell_type": "markdown",
   "metadata": {},
   "source": [
    "For this mini project, we will focus on equities data from the Frankfurt Stock Exhange (FSE), which is available for free. We'll try and analyze the stock prices of a company called Carl Zeiss Meditec, which manufactures tools for eye examinations, as well as medical lasers for laser eye surgery: https://www.zeiss.com/meditec/int/home.html. The company is listed under the stock ticker AFX_X."
   ]
  },
  {
   "cell_type": "markdown",
   "metadata": {},
   "source": [
    "You can find the detailed Quandl API instructions here: https://docs.quandl.com/docs/time-series"
   ]
  },
  {
   "cell_type": "markdown",
   "metadata": {},
   "source": [
    "While there is a dedicated Python package for connecting to the Quandl API, we would prefer that you use the *requests* package, which can be easily downloaded using *pip* or *conda*. You can find the documentation for the package here: http://docs.python-requests.org/en/master/ "
   ]
  },
  {
   "cell_type": "markdown",
   "metadata": {},
   "source": [
    "Finally, apart from the *requests* package, you are encouraged to not use any third party Python packages, such as *pandas*, and instead focus on what's available in the Python Standard Library (the *collections* module might come in handy: https://pymotw.com/3/collections/ ).\n",
    "Also, since you won't have access to DataFrames, you are encouraged to us Python's native data structures - preferably dictionaries, though some questions can also be answered using lists.\n",
    "You can read more on these data structures here: https://docs.python.org/3/tutorial/datastructures.html"
   ]
  },
  {
   "cell_type": "markdown",
   "metadata": {},
   "source": [
    "Keep in mind that the JSON responses you will be getting from the API map almost one-to-one to Python's dictionaries. Unfortunately, they can be very nested, so make sure you read up on indexing dictionaries in the documentation provided above."
   ]
  },
  {
   "cell_type": "code",
   "execution_count": 2,
   "metadata": {},
   "outputs": [],
   "source": [
    "# First, import the relevant modules\n",
    "import requests\n",
    "import json"
   ]
  },
  {
   "cell_type": "code",
   "execution_count": 20,
   "metadata": {},
   "outputs": [
    {
     "name": "stdout",
     "output_type": "stream",
     "text": [
      "{'dataset': {'id': 10095370, 'dataset_code': 'AFX_X', 'database_code': 'FSE', 'name': 'Carl Zeiss Meditec (AFX_X)', 'description': 'Stock Prices for Carl Zeiss Meditec (2020-05-04) from the Frankfurt Stock Exchange.<br><br>Trading System: Xetra<br><br>ISIN: DE0005313704', 'refreshed_at': '2020-05-18T22:16:14.365Z', 'newest_available_date': '2020-05-18', 'oldest_available_date': '2000-06-07', 'column_names': ['Date', 'Open', 'High', 'Low', 'Close', 'Change', 'Traded Volume', 'Turnover', 'Last Price of the Day', 'Daily Traded Units', 'Daily Turnover'], 'frequency': 'daily', 'type': 'Time Series', 'premium': False, 'limit': None, 'transform': None, 'column_index': None, 'start_date': '2020-05-01', 'end_date': '2020-05-18', 'data': [['2020-05-18', 85.45, 89.95, 84.9, 89.65, None, 202085.0, 17790850.8, None, None, None], ['2020-05-15', 82.25, 84.85, 80.65, 83.8, None, 219726.0, 18211281.9, None, None, None], ['2020-05-14', 84.7, 85.3, 81.15, 81.35, None, 227178.0, 18722697.45, None, None, None], ['2020-05-13', 85.5, 87.9, 83.8, 85.75, None, 229089.0, 19608050.05, None, None, None], ['2020-05-12', 91.55, 91.55, 86.0, 86.0, None, 332344.0, 29093515.5, None, None, None], ['2020-05-11', 97.0, 97.7, 90.75, 91.8, None, 202683.0, 18762257.75, None, None, None], ['2020-05-08', 96.35, 97.35, 95.15, 95.3, None, 134071.0, 12869764.45, None, None, None], ['2020-05-07', 94.55, 97.25, 94.25, 96.0, None, 210096.0, 20200879.55, None, None, None], ['2020-05-06', 92.8, 94.7, 91.45, 93.95, None, 129479.0, 12095616.85, None, None, None], ['2020-05-05', 88.9, 92.6, 88.25, 92.6, None, 131163.0, 12019019.15, None, None, None], ['2020-05-04', 87.65, 88.1, 85.95, 87.65, None, 168947.0, 14745103.15, None, None, None]], 'collapse': None, 'order': None, 'database_id': 6129}}\n"
     ]
    }
   ],
   "source": [
    "# Now, call the Quandl API and pull out a small sample of the data (only one day) to get a glimpse\n",
    "# into the JSON structure that will be returned\n",
    "url = 'https://www.quandl.com/api/v3/datasets/FSE/AFX_X.json?start_date=2020-05-01&end_date=2020-06-01&api_key=Mpnz-DJxEPMt2PWqv_aw'\n",
    "res = requests.get(url)\n",
    "afx_json = res.text\n",
    "afx_dict = json.loads(afx_json)\n",
    "print(afx_dict)"
   ]
  },
  {
   "cell_type": "code",
   "execution_count": 42,
   "metadata": {},
   "outputs": [
    {
     "name": "stdout",
     "output_type": "stream",
     "text": [
      "['2020-05-18', 85.45, 89.95, 84.9, 89.65, None]\n"
     ]
    }
   ],
   "source": [
    "print(afx_dict['dataset']['data'][0][0:6])"
   ]
  },
  {
   "cell_type": "code",
   "execution_count": 24,
   "metadata": {},
   "outputs": [
    {
     "name": "stdout",
     "output_type": "stream",
     "text": [
      "{'name': 'Bob', 'languages': ['English', 'Fench']}\n"
     ]
    },
    {
     "ename": "KeyError",
     "evalue": "'data'",
     "output_type": "error",
     "traceback": [
      "\u001b[0;31m---------------------------------------------------------------------------\u001b[0m",
      "\u001b[0;31mKeyError\u001b[0m                                  Traceback (most recent call last)",
      "\u001b[0;32m<ipython-input-24-86fad0879095>\u001b[0m in \u001b[0;36m<module>\u001b[0;34m\u001b[0m\n\u001b[1;32m      8\u001b[0m \u001b[0;34m\u001b[0m\u001b[0m\n\u001b[1;32m      9\u001b[0m \u001b[0;31m# Output: ['English', 'French']\u001b[0m\u001b[0;34m\u001b[0m\u001b[0;34m\u001b[0m\u001b[0;34m\u001b[0m\u001b[0m\n\u001b[0;32m---> 10\u001b[0;31m \u001b[0mprint\u001b[0m\u001b[0;34m(\u001b[0m\u001b[0mperson_dict\u001b[0m\u001b[0;34m[\u001b[0m\u001b[0;34m'data'\u001b[0m\u001b[0;34m]\u001b[0m\u001b[0;34m)\u001b[0m\u001b[0;34m\u001b[0m\u001b[0;34m\u001b[0m\u001b[0m\n\u001b[0m",
      "\u001b[0;31mKeyError\u001b[0m: 'data'"
     ]
    }
   ],
   "source": [
    "import json\n",
    "\n",
    "person = '{\"name\": \"Bob\", \"languages\": [\"English\", \"Fench\"]}'\n",
    "person_dict = json.loads(person)\n",
    "\n",
    "# Output: {'name': 'Bob', 'languages': ['English', 'Fench']}\n",
    "print( person_dict)\n",
    "\n",
    "# Output: ['English', 'French']\n",
    "print(person_dict['data'])"
   ]
  },
  {
   "cell_type": "code",
   "execution_count": 34,
   "metadata": {},
   "outputs": [
    {
     "data": {
      "text/plain": [
       "{'dataset': {'id': 10095370,\n",
       "  'dataset_code': 'AFX_X',\n",
       "  'database_code': 'FSE',\n",
       "  'name': 'Carl Zeiss Meditec (AFX_X)',\n",
       "  'description': 'Stock Prices for Carl Zeiss Meditec (2020-05-04) from the Frankfurt Stock Exchange.<br><br>Trading System: Xetra<br><br>ISIN: DE0005313704',\n",
       "  'refreshed_at': '2020-05-18T22:16:14.365Z',\n",
       "  'newest_available_date': '2020-05-18',\n",
       "  'oldest_available_date': '2000-06-07',\n",
       "  'column_names': ['Date',\n",
       "   'Open',\n",
       "   'High',\n",
       "   'Low',\n",
       "   'Close',\n",
       "   'Change',\n",
       "   'Traded Volume',\n",
       "   'Turnover',\n",
       "   'Last Price of the Day',\n",
       "   'Daily Traded Units',\n",
       "   'Daily Turnover'],\n",
       "  'frequency': 'daily',\n",
       "  'type': 'Time Series',\n",
       "  'premium': False,\n",
       "  'limit': None,\n",
       "  'transform': None,\n",
       "  'column_index': None,\n",
       "  'start_date': '2020-05-01',\n",
       "  'end_date': '2020-05-18',\n",
       "  'data': [['2020-05-18',\n",
       "    85.45,\n",
       "    89.95,\n",
       "    84.9,\n",
       "    89.65,\n",
       "    None,\n",
       "    202085.0,\n",
       "    17790850.8,\n",
       "    None,\n",
       "    None,\n",
       "    None],\n",
       "   ['2020-05-15',\n",
       "    82.25,\n",
       "    84.85,\n",
       "    80.65,\n",
       "    83.8,\n",
       "    None,\n",
       "    219726.0,\n",
       "    18211281.9,\n",
       "    None,\n",
       "    None,\n",
       "    None],\n",
       "   ['2020-05-14',\n",
       "    84.7,\n",
       "    85.3,\n",
       "    81.15,\n",
       "    81.35,\n",
       "    None,\n",
       "    227178.0,\n",
       "    18722697.45,\n",
       "    None,\n",
       "    None,\n",
       "    None],\n",
       "   ['2020-05-13',\n",
       "    85.5,\n",
       "    87.9,\n",
       "    83.8,\n",
       "    85.75,\n",
       "    None,\n",
       "    229089.0,\n",
       "    19608050.05,\n",
       "    None,\n",
       "    None,\n",
       "    None],\n",
       "   ['2020-05-12',\n",
       "    91.55,\n",
       "    91.55,\n",
       "    86.0,\n",
       "    86.0,\n",
       "    None,\n",
       "    332344.0,\n",
       "    29093515.5,\n",
       "    None,\n",
       "    None,\n",
       "    None],\n",
       "   ['2020-05-11',\n",
       "    97.0,\n",
       "    97.7,\n",
       "    90.75,\n",
       "    91.8,\n",
       "    None,\n",
       "    202683.0,\n",
       "    18762257.75,\n",
       "    None,\n",
       "    None,\n",
       "    None],\n",
       "   ['2020-05-08',\n",
       "    96.35,\n",
       "    97.35,\n",
       "    95.15,\n",
       "    95.3,\n",
       "    None,\n",
       "    134071.0,\n",
       "    12869764.45,\n",
       "    None,\n",
       "    None,\n",
       "    None],\n",
       "   ['2020-05-07',\n",
       "    94.55,\n",
       "    97.25,\n",
       "    94.25,\n",
       "    96.0,\n",
       "    None,\n",
       "    210096.0,\n",
       "    20200879.55,\n",
       "    None,\n",
       "    None,\n",
       "    None],\n",
       "   ['2020-05-06',\n",
       "    92.8,\n",
       "    94.7,\n",
       "    91.45,\n",
       "    93.95,\n",
       "    None,\n",
       "    129479.0,\n",
       "    12095616.85,\n",
       "    None,\n",
       "    None,\n",
       "    None],\n",
       "   ['2020-05-05',\n",
       "    88.9,\n",
       "    92.6,\n",
       "    88.25,\n",
       "    92.6,\n",
       "    None,\n",
       "    131163.0,\n",
       "    12019019.15,\n",
       "    None,\n",
       "    None,\n",
       "    None],\n",
       "   ['2020-05-04',\n",
       "    87.65,\n",
       "    88.1,\n",
       "    85.95,\n",
       "    87.65,\n",
       "    None,\n",
       "    168947.0,\n",
       "    14745103.15,\n",
       "    None,\n",
       "    None,\n",
       "    None]],\n",
       "  'collapse': None,\n",
       "  'order': None,\n",
       "  'database_id': 6129}}"
      ]
     },
     "execution_count": 34,
     "metadata": {},
     "output_type": "execute_result"
    }
   ],
   "source": [
    "res.json()"
   ]
  },
  {
   "cell_type": "code",
   "execution_count": 5,
   "metadata": {},
   "outputs": [
    {
     "name": "stdout",
     "output_type": "stream",
     "text": [
      "\"{\\\"dataset\\\":{\\\"id\\\":10095370,\\\"dataset_code\\\":\\\"AFX_X\\\",\\\"database_code\\\":\\\"FSE\\\",\\\"name\\\":\\\"Carl Zeiss Meditec (AFX_X)\\\",\\\"description\\\":\\\"Stock Prices for Carl Zeiss Meditec (2020-05-04) from the Frankfurt Stock Exchange.\\\\u003cbr\\\\u003e\\\\u003cbr\\\\u003eTrading System: Xetra\\\\u003cbr\\\\u003e\\\\u003cbr\\\\u003eISIN: DE0005313704\\\",\\\"refreshed_at\\\":\\\"2020-05-18T22:16:14.365Z\\\",\\\"newest_available_date\\\":\\\"2020-05-18\\\",\\\"oldest_available_date\\\":\\\"2000-06-07\\\",\\\"column_names\\\":[\\\"Date\\\",\\\"Open\\\",\\\"High\\\",\\\"Low\\\",\\\"Close\\\",\\\"Change\\\",\\\"Traded Volume\\\",\\\"Turnover\\\",\\\"Last Price of the Day\\\",\\\"Daily Traded Units\\\",\\\"Daily Turnover\\\"],\\\"frequency\\\":\\\"daily\\\",\\\"type\\\":\\\"Time Series\\\",\\\"premium\\\":false,\\\"limit\\\":null,\\\"transform\\\":null,\\\"column_index\\\":null,\\\"start_date\\\":\\\"2020-05-01\\\",\\\"end_date\\\":\\\"2020-05-02\\\",\\\"data\\\":[],\\\"collapse\\\":null,\\\"order\\\":null,\\\"database_id\\\":6129}}\"\n"
     ]
    }
   ],
   "source": [
    "import json\n",
    "\n",
    "print(json.dumps(res.text))"
   ]
  },
  {
   "cell_type": "code",
   "execution_count": 30,
   "metadata": {},
   "outputs": [
    {
     "data": {
      "text/plain": [
       "{'Content-Length': '465', 'X-XSS-Protection': '1; mode=block', 'X-Request-Id': 'bdc4ba32-8cea-4a20-a1be-e68bea6c036c', 'X-Frame-Options': 'SAMEORIGIN', 'X-Runtime': '0.058171', 'ETag': 'W/\"8ebb040002f47854466aac6d46d84d22\"', 'Date': 'Mon, 18 May 2020 18:15:46 GMT', 'X-RateLimit-Remaining': '49982', 'X-CDN': 'Incapsula', 'Set-Cookie': 'visid_incap_2261005=QWGWiUvZSYeUzlyl2OBYsdHQwl4AAAAAQUIPAAAAAADAWpK5PvMRJ9P7W2IBNkb0; expires=Tue, 18 May 2021 13:06:40 GMT; HttpOnly; path=/; Domain=.quandl.com; Secure; SameSite=None, nlbi_2261005=sPmIZrGEvEel69rWgSMXTwAAAAACjEiYLOWhOAhQegMPWP7E; path=/; Domain=.quandl.com; Secure; SameSite=None, incap_ses_442_2261005=BwvvVeBt4CjdhrcttEwiBtHQwl4AAAAAbQGjlQI1IIAds1lnlWHfuA==; path=/; Domain=.quandl.com; Secure; SameSite=None', 'Strict-Transport-Security': 'max-age=31536000; includeSubDomains', 'Server': 'openresty', 'X-Rack-CORS': 'miss; no-origin', 'Connection': 'keep-alive', 'Allow': 'GET, HEAD, POST, PUT, DELETE, OPTIONS, PATCH', 'X-Content-Type-Options': 'nosniff', 'Content-Encoding': 'gzip', 'Vary': 'Origin', 'X-RateLimit-Limit': '50000', 'Cache-Control': 'max-age=0, private, must-revalidate', 'X-Iinfo': '5-63779474-63779491 NNNN CT(80 79 0) RT(1589825745565 36) q(0 0 1 -1) r(3 3) U2', 'Content-Type': 'application/json; charset=utf-8'}"
      ]
     },
     "execution_count": 30,
     "metadata": {},
     "output_type": "execute_result"
    }
   ],
   "source": [
    "res.headers"
   ]
  },
  {
   "cell_type": "code",
   "execution_count": null,
   "metadata": {
    "collapsed": true,
    "jupyter": {
     "outputs_hidden": true
    }
   },
   "outputs": [],
   "source": [
    "# Inspect the JSON structure of the object you created, and take note of how nested it is,\n",
    "# as well as the overall structure\n"
   ]
  },
  {
   "cell_type": "markdown",
   "metadata": {},
   "source": [
    "These are your tasks for this mini project:\n",
    "\n",
    "1. Collect data from the Franfurt Stock Exchange, for the ticker AFX_X, for the whole year 2017 (keep in mind that the date format is YYYY-MM-DD).\n",
    "2. Convert the returned JSON object into a Python dictionary.\n",
    "3. Calculate what the highest and lowest opening prices were for the stock in this period.\n",
    "4. What was the largest change in any one day (based on High and Low price)?\n",
    "5. What was the largest change between any two days (based on Closing Price)?\n",
    "6. What was the average daily trading volume during this year?\n",
    "7. (Optional) What was the median trading volume during this year. (Note: you may need to implement your own function for calculating the median.)"
   ]
  },
  {
   "cell_type": "code",
   "execution_count": null,
   "metadata": {
    "collapsed": true,
    "jupyter": {
     "outputs_hidden": true
    }
   },
   "outputs": [],
   "source": []
  }
 ],
 "metadata": {
  "kernelspec": {
   "display_name": "Python 3",
   "language": "python",
   "name": "python3"
  },
  "language_info": {
   "codemirror_mode": {
    "name": "ipython",
    "version": 3
   },
   "file_extension": ".py",
   "mimetype": "text/x-python",
   "name": "python",
   "nbconvert_exporter": "python",
   "pygments_lexer": "ipython3",
   "version": "3.7.4"
  }
 },
 "nbformat": 4,
 "nbformat_minor": 4
}

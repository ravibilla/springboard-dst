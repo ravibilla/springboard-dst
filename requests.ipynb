{
 "cells": [
  {
   "cell_type": "code",
   "execution_count": 13,
   "metadata": {},
   "outputs": [],
   "source": [
    "import requests"
   ]
  },
  {
   "cell_type": "code",
   "execution_count": 14,
   "metadata": {},
   "outputs": [
    {
     "data": {
      "text/plain": [
       "200"
      ]
     },
     "execution_count": 14,
     "metadata": {},
     "output_type": "execute_result"
    }
   ],
   "source": [
    "res = requests.get('https://prettyprinted.com')\n",
    "res.status_code"
   ]
  },
  {
   "cell_type": "code",
   "execution_count": 15,
   "metadata": {},
   "outputs": [
    {
     "data": {
      "text/plain": [
       "404"
      ]
     },
     "execution_count": 15,
     "metadata": {},
     "output_type": "execute_result"
    }
   ],
   "source": [
    "res = requests.get('https://prettyprinted.com/doesnotexist')\n",
    "res.status_code"
   ]
  },
  {
   "cell_type": "raw",
   "metadata": {},
   "source": [
    "if res: \n",
    "    print('Response OK')\n",
    "else:\n",
    "    print('Response Failed')"
   ]
  },
  {
   "cell_type": "code",
   "execution_count": 16,
   "metadata": {},
   "outputs": [
    {
     "data": {
      "text/plain": [
       "{'Server': 'nginx/1.14.2', 'Date': 'Sun, 17 May 2020 22:41:07 GMT', 'Content-Type': 'text/html', 'Transfer-Encoding': 'chunked', 'Connection': 'keep-alive', 'Vary': 'Accept-Encoding', 'ETag': 'W/\"5e62030b-13ea\"', 'Content-Encoding': 'gzip'}"
      ]
     },
     "execution_count": 16,
     "metadata": {},
     "output_type": "execute_result"
    }
   ],
   "source": [
    "res.headers"
   ]
  },
  {
   "cell_type": "code",
   "execution_count": 18,
   "metadata": {},
   "outputs": [
    {
     "data": {
      "text/plain": [
       "'<!DOCTYPE html>\\n<html lang=\"en\">\\n\\n<head>\\n\\n  <meta charset=\"utf-8\">\\n  <meta name=\"viewport\" content=\"width=device-width, initial-scale=1, shrink-to-fit=no\">\\n  <meta name=\"description\" content=\"\">\\n  <meta name=\"author\" content=\"\">\\n\\n  <title>404: Page Not Found - Pretty Printed</title>\\n\\n  <!-- Bootstrap core CSS -->\\n  <link href=\"vendor/bootstrap/css/bootstrap.min.css\" rel=\"stylesheet\">\\n\\n  <!-- Custom fonts for this template -->\\n<link rel=\"stylesheet\" href=\"https://use.fontawesome.com/releases/v5.8.2/css/all.css\" integrity=\"sha384-oS3vJWv+0UjzBfQzYUhtDYW+Pj2yciDJxpsK1OYPAYjqT085Qq/1cq5FLXAZQ7Ay\" crossorigin=\"anonymous\">\\n\\n  <!-- Plugin CSS -->\\n  <link href=\"vendor/magnific-popup/magnific-popup.css\" rel=\"stylesheet\" type=\"text/css\">\\n\\n  <!-- Custom styles for this template -->\\n  <link href=\"css/freelancer.min.css\" rel=\"stylesheet\">\\n  <link rel=\"shortcut icon\" href=\"/img/favicon.ico\">\\n\\n  <script>\\n    (function(i,s,o,g,r,a,m){i[\\'GoogleAnalyticsObject\\']=r;i[r]=i[r]||function(){\\n    (i[r].q=i[r].q||[]).push(arguments)},i[r].l=1*new Date();a=s.createElement(o),\\n    m=s.getElementsByTagName(o)[0];a.async=1;a.src=g;m.parentNode.insertBefore(a,m)\\n    })(window,document,\\'script\\',\\'https://www.google-analytics.com/analytics.js\\',\\'ga\\');\\n  \\n    ga(\\'create\\', \\'UA-70951837-1\\', \\'auto\\');\\n    ga(\\'send\\', \\'pageview\\');\\n  \\n  </script>\\n</head>\\n\\n<body id=\"page-top\">\\n\\n  <!-- Navigation -->\\n  <nav class=\"navbar navbar-expand-lg bg-secondary fixed-top text-uppercase\" id=\"mainNav\">\\n    <div class=\"container\">\\n      <a class=\"navbar-brand\" href=\"https://prettyprinted.com\">\\n            <img src=\"img/PrettyPrinted_Avatar.png\" width=\"30\" height=\"30\" >\\nPretty Printed</a>\\n      <button class=\"navbar-toggler navbar-toggler-right text-uppercase bg-primary text-white rounded\" type=\"button\" data-toggle=\"collapse\" data-target=\"#navbarResponsive\" aria-controls=\"navbarResponsive\" aria-expanded=\"false\" aria-label=\"Toggle navigation\">\\n        Menu\\n        <i class=\"fas fa-bars\"></i>\\n      </button>\\n      <div class=\"collapse navbar-collapse\" id=\"navbarResponsive\">\\n        <ul class=\"navbar-nav ml-auto\">\\n          <li class=\"nav-item mx-0 mx-lg-1\">\\n            <a class=\"nav-link py-3 px-0 px-lg-3 rounded js-scroll-trigger\" href=\"/#courses\">Courses</a>\\n          </li>\\n          <li class=\"nav-item mx-0 mx-lg-1\">\\n            <a class=\"nav-link py-3 px-0 px-lg-3 rounded js-scroll-trigger\" href=\"/#about\">About</a>\\n          </li>\\n          <li class=\"nav-item mx-0 mx-lg-1\">\\n            <a class=\"nav-link py-3 px-0 px-lg-3 rounded js-scroll-trigger\" href=\"/coaching\">Need Help?</a>\\n          </li>\\n          <li class=\"nav-item mx-0 mx-lg-1\">\\n            <a class=\"nav-link py-3 px-0 px-lg-3 rounded\" href=\"https://courses.prettyprinted.com/courses/enrolled\">Login</a>\\n          </li>\\n        </ul>\\n      </div>\\n    </div>\\n  </nav>\\n\\n  <!-- Header -->\\n  <header class=\"masthead bg-primary text-white text-center\">\\n    <div class=\"container\">\\n      <h1 class=\"text-uppercase mb-0\">404: Page not found</h1>\\n      <hr class=\"star-light\">\\n      <p class=\"lead\">Sorry, we\\'ve misplaced that URL or it\\'s pointing to something that doesn\\'t exist.</p>\\n    </div>\\n  </header>\\n\\n  <!-- Footer -->\\n  <footer class=\"footer text-center\">\\n    <div class=\"container\">\\n      <div class=\"row\">\\n        <div class=\"col-md-4 offset-md-4 mb-5 mb-lg-0\">\\n          <h4 class=\"text-uppercase mb-4\">Around the Web</h4>\\n          <ul class=\"list-inline mb-0\">\\n            <li class=\"list-inline-item\">\\n              <a class=\"btn btn-outline-light btn-social text-center rounded-circle\" href=\"https://youtube.com/c/prettyprintedtutorials\">\\n                <i class=\"fab fa-fw fa-youtube\"></i>\\n              </a>\\n            </li>\\n            <li class=\"list-inline-item\">\\n              <a class=\"btn btn-outline-light btn-social text-center rounded-circle\" href=\"https://github.com/prettyprinted\">\\n                <i class=\"fab fa-fw fa-github\"></i>\\n              </a>\\n            </li>\\n            <li class=\"list-inline-item\">\\n              <a class=\"btn btn-outline-light btn-social text-center rounded-circle\" href=\"https://twitter.com/pretty_printed\">\\n                <i class=\"fab fa-fw fa-twitter\"></i>\\n              </a>\\n            </li>\\n          </ul>\\n        </div>\\n      </div>\\n    </div>\\n  </footer>\\n\\n  <div class=\"copyright py-4 text-center text-white\">\\n    <div class=\"container\">\\n      <small>Copyright &copy; PrettyPrinted.com 2019</small>\\n    </div>\\n  </div>\\n\\n  <!-- Scroll to Top Button (Only visible on small and extra-small screen sizes) -->\\n  <div class=\"scroll-to-top d-lg-none position-fixed \">\\n    <a class=\"js-scroll-trigger d-block text-center text-white rounded\" href=\"#page-top\">\\n      <i class=\"fa fa-chevron-up\"></i>\\n    </a>\\n  </div>\\n\\n\\n  <!-- Bootstrap core JavaScript -->\\n  <script src=\"vendor/jquery/jquery.min.js\"></script>\\n  <script src=\"vendor/bootstrap/js/bootstrap.bundle.min.js\"></script>\\n\\n  <!-- Plugin JavaScript -->\\n  <script src=\"vendor/jquery-easing/jquery.easing.min.js\"></script>\\n\\n  <!-- Custom scripts for this template -->\\n  <script src=\"js/freelancer.min.js\"></script>\\n</body>\\n\\n</html>\\n'"
      ]
     },
     "execution_count": 18,
     "metadata": {},
     "output_type": "execute_result"
    }
   ],
   "source": [
    "res.text"
   ]
  },
  {
   "cell_type": "code",
   "execution_count": 19,
   "metadata": {},
   "outputs": [],
   "source": [
    "output = open('index.html', 'w')\n",
    "output.write(res.text)\n",
    "output.close()"
   ]
  },
  {
   "cell_type": "code",
   "execution_count": 20,
   "metadata": {},
   "outputs": [
    {
     "name": "stdout",
     "output_type": "stream",
     "text": [
      "1520094343_sql_project.sql index.html\n",
      "README.md                  requests.ipynb\n",
      "\u001b[1m\u001b[36mdata_wrangling_json\u001b[m\u001b[m        \u001b[1m\u001b[36mslides\u001b[m\u001b[m\n",
      "\u001b[1m\u001b[36mdatasets\u001b[m\u001b[m                   test.py\n"
     ]
    }
   ],
   "source": [
    "! ls"
   ]
  },
  {
   "cell_type": "code",
   "execution_count": null,
   "metadata": {},
   "outputs": [],
   "source": [
    "API_KEY = ''"
   ]
  },
  {
   "cell_type": "code",
   "execution_count": null,
   "metadata": {},
   "outputs": [],
   "source": []
  },
  {
   "cell_type": "code",
   "execution_count": null,
   "metadata": {},
   "outputs": [],
   "source": []
  }
 ],
 "metadata": {
  "kernelspec": {
   "display_name": "Python 3",
   "language": "python",
   "name": "python3"
  },
  "language_info": {
   "codemirror_mode": {
    "name": "ipython",
    "version": 3
   },
   "file_extension": ".py",
   "mimetype": "text/x-python",
   "name": "python",
   "nbconvert_exporter": "python",
   "pygments_lexer": "ipython3",
   "version": "3.7.4"
  }
 },
 "nbformat": 4,
 "nbformat_minor": 4
}
